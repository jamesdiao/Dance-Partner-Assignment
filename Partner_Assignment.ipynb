{
 "cells": [
  {
   "cell_type": "code",
   "execution_count": 2,
   "metadata": {
    "collapsed": false
   },
   "outputs": [],
   "source": [
    "### Declare variables, import packages\n",
    "from random import *\n",
    "from math import *\n",
    "import csv\n",
    "import numpy as np\n",
    "from munkres import Munkres, print_matrix\n",
    "generate = False\n",
    "with open('cost_function.txt') as f:\n",
    "    content = f.readlines()\n",
    "def cost_function(L, F): \n",
    "    return eval(content[0])"
   ]
  },
  {
   "cell_type": "code",
   "execution_count": 3,
   "metadata": {
    "collapsed": false
   },
   "outputs": [],
   "source": [
    "### Get Cost Matrix\n",
    "def random_ranking(numrow,numcol):\n",
    "    mat = [[\"O\" for a in range(numcol)] for b in range(numrow)]  # final combined preference matrix [numrow x numcol]\n",
    "    for row in range(numrow):\n",
    "        temp = []\n",
    "        for i in range(1, numcol + 1):\n",
    "            temp.append(i)\n",
    "        shuffle(temp)\n",
    "        mat[row] = temp\n",
    "    return np.array(mat)\n",
    "\n",
    "def makelist(prefix, n):\n",
    "    values = []\n",
    "    for i in range(n):\n",
    "        values.append(\"%s%d\" % (prefix,i))\n",
    "    return values\n",
    "\n",
    "if (generate):\n",
    "    # Create a random set of preference for each leader, append into matrix1\n",
    "    seed(12345)\n",
    "    num_leaders = 8\n",
    "    num_follow = 12\n",
    "    matrix1 = random_ranking(num_leaders,num_follow)\n",
    "    matrix2 = random_ranking(num_follow,num_leaders)\n",
    "    leaderlist = dict(zip(range(numrow), makelist(\"L\",numrow)))\n",
    "    followerlist = dict(zip(range(numcol), makelist(\"F\",numcol)))\n",
    "    numrow = num_leaders\n",
    "    numcol = num_follow\n",
    "else:\n",
    "    L_input = csv.reader(open(\"leader_matrix.csv\",\"rb\"),delimiter=',')\n",
    "    L_header = next(L_input)\n",
    "    L_header = [L_header[i] for i in range(1,len(L_header))]\n",
    "    matrix1 = np.array(list(L_input))[:, 1:].astype(np.integer)\n",
    "    F_input = csv.reader(open(\"follower_matrix.csv\",\"rb\"),delimiter=',')\n",
    "    F_header = next(F_input)\n",
    "    F_header = [F_header[i] for i in range(1,len(F_header))]\n",
    "    matrix2 = np.array(list(F_input))[:, 1:].astype(np.integer)\n",
    "    numrow = matrix1.shape[0]\n",
    "    numcol = matrix1.shape[1]\n",
    "    leaderlist = dict(zip(range(numrow), F_header))\n",
    "    followerlist = dict(zip(range(numcol), L_header))\n",
    "\n",
    "matrix = cost_function(matrix1,matrix2.T)\n",
    "matrix_original = matrix.copy()"
   ]
  },
  {
   "cell_type": "code",
   "execution_count": 4,
   "metadata": {
    "collapsed": false,
    "scrolled": false
   },
   "outputs": [
    {
     "name": "stdout",
     "output_type": "stream",
     "text": [
      "\n",
      "PREFERENCE MATRIX FOR LEADERS (LEADERS LEFT X FOLLOWERS TOP)\n",
      "2\t4 \t10\t6 \t9 \t8\t3\t7 \t1\t5 \n",
      "8\t7 \t9 \t1 \t10\t3\t4\t2 \t6\t5 \n",
      "5\t4 \t8 \t7 \t1 \t3\t9\t10\t2\t6 \n",
      "4\t3 \t2 \t6 \t9 \t5\t7\t10\t1\t8 \n",
      "3\t8 \t1 \t9 \t10\t5\t4\t2 \t7\t6 \n",
      "7\t9 \t1 \t6 \t10\t4\t2\t5 \t8\t3 \n",
      "3\t6 \t5 \t7 \t1 \t4\t9\t2 \t8\t10\n",
      "7\t10\t4 \t3 \t2 \t5\t6\t8 \t9\t1 \n",
      "4\t2 \t9 \t10\t7 \t8\t5\t3 \t6\t1 \n",
      "5\t3 \t4 \t10\t9 \t8\t7\t2 \t1\t6 \n",
      "\n",
      "PREFERENCE MATRIX FOR FOLLOWERS (FOLLOWERS LEFT X LEADERS TOP)\n",
      "3 \t3 \t10\t1 \t2 \t4 \t8 \t8 \t4 \t7 \n",
      "5 \t5 \t4 \t5 \t6 \t9 \t2 \t7 \t3 \t2 \n",
      "7 \t10\t6 \t4 \t1 \t7 \t9 \t1 \t7 \t4 \n",
      "9 \t7 \t1 \t3 \t5 \t2 \t6 \t5 \t6 \t5 \n",
      "6 \t1 \t8 \t6 \t7 \t10\t4 \t9 \t10\t10\n",
      "8 \t6 \t9 \t8 \t10\t3 \t5 \t6 \t5 \t1 \n",
      "2 \t2 \t3 \t10\t9 \t5 \t7 \t3 \t9 \t9 \n",
      "4 \t4 \t2 \t9 \t4 \t6 \t10\t10\t2 \t3 \n",
      "10\t9 \t5 \t2 \t3 \t1 \t1 \t4 \t1 \t8 \n",
      "1 \t8 \t7 \t7 \t8 \t8 \t3 \t2 \t8 \t6 \n",
      "\n",
      "COMBINED PREFERENCE MATRIX (LEADERS LEFT X FOLLOWERS TOP)\n",
      "13\t23\t53\t45\t48 \t40\t14\t38\t104\t33\n",
      "55\t35\t48\t53\t113\t30\t20\t18\t45 \t40\n",
      "60\t20\t40\t59\t68 \t63\t69\t98\t25 \t33\n",
      "23\t23\t18\t33\t48 \t40\t50\t49\t8  \t39\n",
      "14\t40\t5 \t53\t53 \t60\t55\t18\t43 \t38\n",
      "38\t45\t53\t38\t50 \t19\t25\t28\t75 \t50\n",
      "50\t38\t49\t34\t20 \t23\t45\t90\t75 \t85\n",
      "38\t53\t23\t23\t73 \t28\t33\t48\t60 \t8 \n",
      "20\t13\t45\t58\t50 \t43\t49\t14\t45 \t68\n",
      "33\t14\t20\t65\t48 \t75\t43\t13\t68 \t30\n"
     ]
    }
   ],
   "source": [
    "# Print Function\n",
    "def printmatrix(matrix, dict1, dict2, sides): \n",
    "    left_bottom = np.array(np.c_[dict1.values(), matrix])\n",
    "    if (sides):\n",
    "        top = np.array([''] + dict2.values())[np.newaxis]\n",
    "        matrix = np.r_[top, left_bottom]\n",
    "    s = [[str(e) for e in row] for row in matrix]\n",
    "    lens = [max(map(len, col)) for col in zip(*s)]\n",
    "    fmt = '\\t'.join('{{:{}}}'.format(x) for x in lens)\n",
    "    table = [fmt.format(*row) for row in s]\n",
    "    print '\\n'.join(table)\n",
    "\n",
    "print(\"\\nPREFERENCE MATRIX FOR LEADERS (LEADERS LEFT X FOLLOWERS TOP)\")\n",
    "printmatrix(matrix1, leaderlist, followerlist, False)\n",
    "print(\"\\nPREFERENCE MATRIX FOR FOLLOWERS (FOLLOWERS LEFT X LEADERS TOP)\")\n",
    "printmatrix(matrix2, followerlist, leaderlist, False)\n",
    "print(\"\\nCOMBINED PREFERENCE MATRIX (LEADERS LEFT X FOLLOWERS TOP)\")\n",
    "printmatrix(matrix, leaderlist, followerlist, False)"
   ]
  },
  {
   "cell_type": "code",
   "execution_count": 5,
   "metadata": {
    "collapsed": false,
    "scrolled": true
   },
   "outputs": [
    {
     "name": "stdout",
     "output_type": "stream",
     "text": [
      "\n",
      "LEADER SCORES\n",
      "Leader_9: 4.4\n",
      "Leader_2: 4.8\n",
      "Leader_4: 4.9\n",
      "Leader_1: 5.0\n",
      "Leader_8: 5.4\n",
      "Leader_3: 5.6\n",
      "Leader_10: 5.8\n",
      "Leader_7: 5.9\n",
      "Leader_6: 6.1\n",
      "Leader_5: 7.1\n",
      "\n",
      "FOLLOWER SCORES\n",
      "Follower_1: 4.8\n",
      "Follower_9: 4.9\n",
      "Follower_8: 5.1\n",
      "Follower_10: 5.1\n",
      "Follower_3: 5.3\n",
      "Follower_6: 5.3\n",
      "Follower_2: 5.6\n",
      "Follower_7: 5.6\n",
      "Follower_4: 6.5\n",
      "Follower_5: 6.8\n"
     ]
    }
   ],
   "source": [
    "### Leader Scores\n",
    "print(\"\\nLEADER SCORES\")\n",
    "leader_scores = np.mean(matrix2, axis=1)\n",
    "for i in np.argsort(leader_scores):\n",
    "    print '%s: %s' % (leaderlist.values()[i], round(leader_scores[i],2))\n",
    "\n",
    "### Follower Scores\n",
    "print(\"\\nFOLLOWER SCORES\")\n",
    "follow_scores = np.mean(matrix1, axis=0)\n",
    "for i in np.argsort(follow_scores):\n",
    "    print '%s: %s' % (followerlist.values()[i], round(follow_scores[i],2))"
   ]
  },
  {
   "cell_type": "code",
   "execution_count": 11,
   "metadata": {
    "collapsed": false,
    "scrolled": false
   },
   "outputs": [
    {
     "name": "stdout",
     "output_type": "stream",
     "text": [
      "\n",
      "FINAL PARTNER ASSIGNMENTS: (N[X] means Person N was given their Xth choice)\n",
      "------------------------------------------------------------\n",
      "Leader_1[2] + Follower_1[3] >>> 13\n",
      "Leader_2[4] + Follower_7[2] >>> 20\n",
      "Leader_3[6] + Follower_10[7] >>> 33\n",
      "Leader_4[1] + Follower_9[2] >>> 8\n",
      "Leader_5[1] + Follower_3[1] >>> 5\n",
      "Leader_6[4] + Follower_6[3] >>> 19\n",
      "Leader_7[1] + Follower_5[4] >>> 20\n",
      "Leader_8[3] + Follower_4[5] >>> 23\n",
      "Leader_9[2] + Follower_2[3] >>> 13\n",
      "Leader_10[2] + Follower_8[3] >>> 13\n",
      "Total Penalty: 167\n"
     ]
    }
   ],
   "source": [
    "m = Munkres()\n",
    "indexes = m.compute(matrix)\n",
    "print(\"\\nFINAL PARTNER ASSIGNMENTS: (N[X] means Person N was given their Xth choice)\")\n",
    "print(\"------------------------------------------------------------\")\n",
    "csv_write = csv.writer(open('match_outputs.csv','wb'),delimiter = ',',quoting=csv.QUOTE_MINIMAL)\n",
    "csv_write.writerow(['Leader_Name','Choice_Received','Follower_Name','Choice_Received','Penalty'])\n",
    "total = 0\n",
    "for row, col in indexes:\n",
    "    value = matrix_original[row][col]\n",
    "    total += value\n",
    "    csv_write.writerow([leaderlist[row], matrix1[row,col], followerlist[col], matrix2[col, row], value])\n",
    "    print '%s[%d] + %s[%d] >>> %d' % (leaderlist[row], matrix1[row,col], followerlist[col], matrix2[col, row], value)\n",
    "print 'Total Penalty: %d' % total\n",
    "csv_write.writerow(['\\nTotal Penalty\\n', total])"
   ]
  },
  {
   "cell_type": "code",
   "execution_count": null,
   "metadata": {
    "collapsed": true
   },
   "outputs": [],
   "source": []
  },
  {
   "cell_type": "code",
   "execution_count": 188,
   "metadata": {
    "collapsed": false,
    "scrolled": false
   },
   "outputs": [
    {
     "name": "stdout",
     "output_type": "stream",
     "text": [
      "STABLE MATCH ALGORITHM:\n",
      "Starting State\n",
      "[0, 0, 0, 0, 0, 0, 0, 0, 0, 0]\n",
      "[11, 11, 11, 11, 11, 11, 11, 11, 11, 11]\n",
      "\n",
      "\n",
      "ROUND #1\n",
      "Suitor 1 Proposes to Lady 9 (His #1 choice)\n",
      "[1, 0, 0, 0, 0, 0, 0, 0, 0, 0]\n",
      "[11, 11, 11, 11, 11, 11, 11, 11, 10, 11]\n",
      "\n",
      "Suitor 2 Proposes to Lady 4 (His #1 choice)\n",
      "[1, 1, 0, 0, 0, 0, 0, 0, 0, 0]\n",
      "[11, 11, 11, 7, 11, 11, 11, 11, 10, 11]\n",
      "\n",
      "Suitor 3 Proposes to Lady 5 (His #1 choice)\n",
      "[1, 1, 1, 0, 0, 0, 0, 0, 0, 0]\n",
      "[11, 11, 11, 7, 8, 11, 11, 11, 10, 11]\n",
      "\n",
      "Suitor 4 Proposes to Lady 9 (His #1 choice)\n",
      "TRADE UP - Lady drops Suitor 1\n",
      "[0, 1, 1, 1, 0, 0, 0, 0, 0, 0]\n",
      "[11, 11, 11, 7, 8, 11, 11, 11, 2, 11]\n",
      "\n",
      "Suitor 5 Proposes to Lady 3 (His #1 choice)\n",
      "[0, 1, 1, 1, 1, 0, 0, 0, 0, 0]\n",
      "[11, 11, 1, 7, 8, 11, 11, 11, 2, 11]\n",
      "\n",
      "Suitor 6 Proposes to Lady 3 (His #1 choice)\n",
      "REJECTION\n",
      "[0, 1, 1, 1, 1, 0, 0, 0, 0, 0]\n",
      "[11, 11, 1, 7, 8, 11, 11, 11, 2, 11]\n",
      "\n",
      "Suitor 7 Proposes to Lady 5 (His #1 choice)\n",
      "TRADE UP - Lady drops Suitor 3\n",
      "[0, 1, 0, 1, 1, 0, 1, 0, 0, 0]\n",
      "[11, 11, 1, 7, 4, 11, 11, 11, 2, 11]\n",
      "\n",
      "Suitor 8 Proposes to Lady 10 (His #1 choice)\n",
      "[0, 1, 0, 1, 1, 0, 1, 1, 0, 0]\n",
      "[11, 11, 1, 7, 4, 11, 11, 11, 2, 2]\n",
      "\n",
      "Suitor 9 Proposes to Lady 10 (His #1 choice)\n",
      "REJECTION\n",
      "[0, 1, 0, 1, 1, 0, 1, 1, 0, 0]\n",
      "[11, 11, 1, 7, 4, 11, 11, 11, 2, 2]\n",
      "\n",
      "Suitor 10 Proposes to Lady 9 (His #1 choice)\n",
      "REJECTION\n",
      "[0, 1, 0, 1, 1, 0, 1, 1, 0, 0]\n",
      "[11, 11, 1, 7, 4, 11, 11, 11, 2, 2]\n",
      "\n",
      "\n",
      "ROUND #2\n",
      "Suitor 1 Proposes to Lady 1 (His #2 choice)\n",
      "[2, 1, 0, 1, 1, 0, 1, 1, 0, 0]\n",
      "[3, 11, 1, 7, 4, 11, 11, 11, 2, 2]\n",
      "\n",
      "Suitor 3 Proposes to Lady 9 (His #2 choice)\n",
      "REJECTION\n",
      "[2, 1, 0, 1, 1, 0, 1, 1, 0, 0]\n",
      "[3, 11, 1, 7, 4, 11, 11, 11, 2, 2]\n",
      "\n",
      "Suitor 6 Proposes to Lady 7 (His #2 choice)\n",
      "[2, 1, 0, 1, 1, 2, 1, 1, 0, 0]\n",
      "[3, 11, 1, 7, 4, 11, 5, 11, 2, 2]\n",
      "\n",
      "Suitor 9 Proposes to Lady 2 (His #2 choice)\n",
      "[2, 1, 0, 1, 1, 2, 1, 1, 2, 0]\n",
      "[3, 3, 1, 7, 4, 11, 5, 11, 2, 2]\n",
      "\n",
      "Suitor 10 Proposes to Lady 8 (His #2 choice)\n",
      "[2, 1, 0, 1, 1, 2, 1, 1, 2, 2]\n",
      "[3, 3, 1, 7, 4, 11, 5, 3, 2, 2]\n",
      "\n",
      "\n",
      "ROUND #3\n",
      "Suitor 3 Proposes to Lady 6 (His #3 choice)\n",
      "[2, 1, 3, 1, 1, 2, 1, 1, 2, 2]\n",
      "[3, 3, 1, 7, 4, 9, 5, 3, 2, 2]\n",
      "\n",
      "STABLE MATCH COMPLETE\n",
      "N[X] means Person N was given their Xth choice\n",
      "------------------------------------------------------------\n",
      "Leader_1[2] + Follower_1[3] >>> 13\n",
      "Leader_2[1] + Follower_4[7] >>> 53\n",
      "Leader_3[3] + Follower_6[9] >>> 63\n",
      "Leader_4[1] + Follower_9[2] >>> 8\n",
      "Leader_5[1] + Follower_3[1] >>> 5\n",
      "Leader_6[2] + Follower_7[5] >>> 25\n",
      "Leader_7[1] + Follower_5[4] >>> 20\n",
      "Leader_8[1] + Follower_10[2] >>> 8\n",
      "Leader_9[2] + Follower_2[3] >>> 13\n",
      "Leader_10[2] + Follower_8[3] >>> 13\n",
      "PENALTY: 221\n"
     ]
    }
   ],
   "source": [
    "# STABLE MATCH ALGORITHM: FAVORS LEADERS\n",
    "if numrow == numcol:\n",
    "    print(\"STABLE MATCH ALGORITHM:\")\n",
    "    singlelist = [0 for a in range(numrow)]  # 0=single\n",
    "    choicelist = [numrow + 1 for a in range(numcol)]  # all high numbers\n",
    "    tempmatrix = matrix1.copy()\n",
    "    print('Starting State')\n",
    "    print(singlelist)\n",
    "    print(choicelist)\n",
    "    print\n",
    "    counter = 1\n",
    "    while sorted(singlelist)[0] == 0:  # main algorithm loop, per round\n",
    "        print(\"\\nROUND #%s\" % counter)\n",
    "        for n in range(len(tempmatrix)):  # For each suitor\n",
    "            if singlelist[n] == 0:  # If they're single\n",
    "                p = np.argmin(tempmatrix[n])#tempmatrix[n].index(min(tempmatrix[n]))  # col identifying their first choice\n",
    "                print(\"Suitor %s Proposes to Lady %s (His #%s choice)\" % (n + 1, p + 1, min(tempmatrix[n])))\n",
    "                tempmatrix[n][p] = 99  # removes from consideration for next round\n",
    "                if choicelist[p] > matrix2[p][\n",
    "                    n]:  # hate of former suitor > hate of new suitor i.e. if you want to trade\n",
    "                    if choicelist[p] != numrow + 1:\n",
    "                        print(\"TRADE UP - Lady drops Suitor %s\" % (1 + matrix2[p].tolist().index(choicelist[p])))\n",
    "                        singlelist[matrix2[p].tolist().index(choicelist[p])] = 0  # set jinked suitor to single\n",
    "                    singlelist[n] = min(tempmatrix[n]) - 1  # set new suitor to engaged\n",
    "                    choicelist[p] = matrix2[p][n]  # completes replacement\n",
    "                else:\n",
    "                    print(\"REJECTION\")\n",
    "                print(singlelist)\n",
    "                print(choicelist)\n",
    "                print\n",
    "        counter += 1\n",
    "    setsum = 0\n",
    "    print(\"STABLE MATCH COMPLETE\")\n",
    "    print(\"N[X] means Person N was given their Xth choice\")\n",
    "    print(\"------------------------------------------------------------\")\n",
    "    for row in leaderlist:\n",
    "        followid = matrix1[row].tolist().index(singlelist[row])\n",
    "        print('%s[%s] + %s[%s] >>> %s' % (leaderlist[row], singlelist[row], followerlist[followid], \n",
    "                                        matrix2[followid,row], matrix_original[row,followid]))\n",
    "        setsum += matrix_original[row,followid]\n",
    "    print(\"PENALTY: \" + str(setsum))\n",
    "else:\n",
    "    print(\"SKIPPED: STABLE MATCH REQUIRES SQUARE COST MATRIX\")"
   ]
  },
  {
   "cell_type": "code",
   "execution_count": null,
   "metadata": {
    "collapsed": true
   },
   "outputs": [],
   "source": []
  }
 ],
 "metadata": {
  "anaconda-cloud": {},
  "kernelspec": {
   "display_name": "Python [Root]",
   "language": "python",
   "name": "Python [Root]"
  },
  "language_info": {
   "codemirror_mode": {
    "name": "ipython",
    "version": 2
   },
   "file_extension": ".py",
   "mimetype": "text/x-python",
   "name": "python",
   "nbconvert_exporter": "python",
   "pygments_lexer": "ipython2",
   "version": "2.7.12"
  },
  "nbpresent": {
   "slides": {
    "244475ab-d0a3-453f-b26d-b08d94b0dfe1": {
     "id": "244475ab-d0a3-453f-b26d-b08d94b0dfe1",
     "prev": null,
     "regions": {
      "9b54e231-d665-49fc-8afa-38a899b3deb9": {
       "attrs": {
        "height": 0.8,
        "width": 0.8,
        "x": 0.1,
        "y": 0.1
       },
       "content": {
        "cell": "f85e4037-705f-4b27-8be1-44b3b118dc02",
        "part": "whole"
       },
       "id": "9b54e231-d665-49fc-8afa-38a899b3deb9"
      }
     }
    },
    "68b234e0-3789-48a3-b46d-f2447c1d7ac8": {
     "id": "68b234e0-3789-48a3-b46d-f2447c1d7ac8",
     "prev": "891016bb-3622-4ca3-9938-7f6a12e66cdd",
     "regions": {
      "515047c6-88b1-4152-95b4-29707d8bc65c": {
       "attrs": {
        "height": 0.8,
        "width": 0.8,
        "x": 0.1,
        "y": 0.1
       },
       "content": {
        "cell": "cf0baff5-5518-4f1d-bd9e-7d874750057c",
        "part": "whole"
       },
       "id": "515047c6-88b1-4152-95b4-29707d8bc65c"
      }
     }
    },
    "891016bb-3622-4ca3-9938-7f6a12e66cdd": {
     "id": "891016bb-3622-4ca3-9938-7f6a12e66cdd",
     "prev": "f8fce843-b440-48dd-a957-c557aaee5448",
     "regions": {
      "d610a1f6-fd1a-4725-a84f-3e0184b23a28": {
       "attrs": {
        "height": 0.8,
        "width": 0.8,
        "x": 0.1,
        "y": 0.1
       },
       "content": {
        "cell": "1da669e5-a2f4-4613-a09b-90fe70acbcd8",
        "part": "whole"
       },
       "id": "d610a1f6-fd1a-4725-a84f-3e0184b23a28"
      }
     }
    },
    "8c915e63-6116-4c74-8f0e-42f743c52a85": {
     "id": "8c915e63-6116-4c74-8f0e-42f743c52a85",
     "prev": "975c805e-da3d-4119-8a32-23cc877ba717",
     "regions": {
      "45104c7c-6963-49fc-9487-c7e619f62fb3": {
       "attrs": {
        "height": 0.8,
        "width": 0.8,
        "x": 0.1,
        "y": 0.1
       },
       "content": {
        "cell": "da445fe7-49aa-409b-9bb4-4a7d2ba35926",
        "part": "whole"
       },
       "id": "45104c7c-6963-49fc-9487-c7e619f62fb3"
      }
     }
    },
    "9485df53-b46b-40f9-9699-9d293d06508a": {
     "id": "9485df53-b46b-40f9-9699-9d293d06508a",
     "prev": "8c915e63-6116-4c74-8f0e-42f743c52a85",
     "regions": {
      "df79d905-4f50-4960-962e-925cd9e698e8": {
       "attrs": {
        "height": 0.8,
        "width": 0.8,
        "x": 0.1,
        "y": 0.1
       },
       "content": {
        "cell": "905e5fef-c46e-468c-aa31-8a67e94d487b",
        "part": "whole"
       },
       "id": "df79d905-4f50-4960-962e-925cd9e698e8"
      }
     }
    },
    "975c805e-da3d-4119-8a32-23cc877ba717": {
     "id": "975c805e-da3d-4119-8a32-23cc877ba717",
     "prev": "68b234e0-3789-48a3-b46d-f2447c1d7ac8",
     "regions": {
      "47c88a14-279d-4af2-bed2-0ad1ed894847": {
       "attrs": {
        "height": 0.8,
        "width": 0.8,
        "x": 0.1,
        "y": 0.1
       },
       "content": {
        "cell": "33846df3-3679-478c-b1fd-42ed385c3fac",
        "part": "whole"
       },
       "id": "47c88a14-279d-4af2-bed2-0ad1ed894847"
      }
     }
    },
    "ae808a86-2a6b-4bfd-b551-ace02b328c2f": {
     "id": "ae808a86-2a6b-4bfd-b551-ace02b328c2f",
     "prev": "b91b8c21-eefd-471d-bbf1-e70d74656771",
     "regions": {
      "def56b9e-7f9e-439e-9062-a1544b223733": {
       "attrs": {
        "height": 0.8,
        "width": 0.8,
        "x": 0.1,
        "y": 0.1
       },
       "content": {
        "cell": "ef8c5ff3-0235-4a28-af19-070ae7994aed",
        "part": "whole"
       },
       "id": "def56b9e-7f9e-439e-9062-a1544b223733"
      }
     }
    },
    "b91b8c21-eefd-471d-bbf1-e70d74656771": {
     "id": "b91b8c21-eefd-471d-bbf1-e70d74656771",
     "prev": "244475ab-d0a3-453f-b26d-b08d94b0dfe1",
     "regions": {
      "30552d2d-5eb7-41b1-8100-33cd20a80417": {
       "attrs": {
        "height": 0.8,
        "width": 0.8,
        "x": 0.1,
        "y": 0.1
       },
       "content": {
        "cell": "044f1643-1aad-4d72-b274-cbd933d99299",
        "part": "whole"
       },
       "id": "30552d2d-5eb7-41b1-8100-33cd20a80417"
      }
     }
    },
    "f85befe1-d095-4522-94e2-f0851ee22b8d": {
     "id": "f85befe1-d095-4522-94e2-f0851ee22b8d",
     "prev": "9485df53-b46b-40f9-9699-9d293d06508a",
     "regions": {
      "e3014341-8de2-4c6a-ac40-808d46f52b06": {
       "attrs": {
        "height": 0.8,
        "width": 0.8,
        "x": 0.1,
        "y": 0.1
       },
       "content": {
        "cell": "74747c48-dc5a-451c-869b-33e27be7b829",
        "part": "whole"
       },
       "id": "e3014341-8de2-4c6a-ac40-808d46f52b06"
      }
     }
    },
    "f8fce843-b440-48dd-a957-c557aaee5448": {
     "id": "f8fce843-b440-48dd-a957-c557aaee5448",
     "prev": "ae808a86-2a6b-4bfd-b551-ace02b328c2f",
     "regions": {
      "e4a88579-b8bd-4392-9154-6d97e5b79b9c": {
       "attrs": {
        "height": 0.8,
        "width": 0.8,
        "x": 0.1,
        "y": 0.1
       },
       "content": {
        "cell": "a41d7ff0-53af-44b8-b14e-e6342eefd274",
        "part": "whole"
       },
       "id": "e4a88579-b8bd-4392-9154-6d97e5b79b9c"
      }
     }
    }
   },
   "themes": {}
  }
 },
 "nbformat": 4,
 "nbformat_minor": 0
}
